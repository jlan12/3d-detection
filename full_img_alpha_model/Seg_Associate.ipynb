{
 "cells": [
  {
   "cell_type": "code",
   "execution_count": 18,
   "metadata": {},
   "outputs": [],
   "source": [
    "import json\n",
    "import os\n",
    "segs_json = \"inputs/train_segs.json\"\n",
    "jsonfp = \"inputs/train_data.json\"\n",
    "\n",
    "annos = json.load(open(jsonfp, mode='r')) #Load json with all annotations - used to find the correct segmentation for a given instance\n",
    "segs_data = json.load(open(segs_json,mode='r')) #Load json with all segmentations - includes up to 100 segmentations per image"
   ]
  },
  {
   "cell_type": "code",
   "execution_count": 25,
   "metadata": {},
   "outputs": [
    {
     "name": "stdout",
     "output_type": "stream",
     "text": [
      "1000\n",
      "2000\n",
      "3000\n",
      "4000\n",
      "5000\n",
      "6000\n",
      "7000\n",
      "8000\n",
      "9000\n",
      "10000\n",
      "11000\n",
      "12000\n",
      "13000\n",
      "14000\n",
      "15000\n",
      "16000\n",
      "17000\n",
      "18000\n",
      "19000\n",
      "20000\n",
      "21000\n",
      "22000\n",
      "23000\n",
      "24000\n",
      "25000\n",
      "26000\n",
      "27000\n",
      "28000\n",
      "29000\n",
      "30000\n",
      "31000\n",
      "32000\n",
      "33000\n",
      "34000\n",
      "35000\n",
      "36000\n",
      "37000\n",
      "38000\n",
      "39000\n",
      "40000\n"
     ]
    }
   ],
   "source": [
    "def IOU(box1, box2):\n",
    "    y_overlap = max(0, min(box1[1]+box1[3], box2[1]+box2[3]) - max(box1[1], box2[1])); #Leftmost right edge minus rightmost left edge \n",
    "    x_overlap = max(0, min(box1[0]+box1[2], box2[0]+box2[2]) - max(box1[0], box2[0])); #Highest bottom minus lowest top\n",
    "    interArea = x_overlap * y_overlap;\n",
    "    unionArea = (box1[3]) * (box1[2]) + (box2[3]) * (box2[2]) - interArea\n",
    "    iou = interArea / unionArea\n",
    "    return iou\n",
    "\n",
    "counter = 0\n",
    "\n",
    "for anno in annos:\n",
    "    output_dir = \"inputs/instance_segs\"\n",
    "    bbox = anno['bbox'] # bbox is a list in [x,y,w,h] format\n",
    "    segs_dict = segs_data[anno['image_id']]\n",
    "    segs_annotations = segs_dict['annotations']\n",
    "    iou_list= []\n",
    "    for num in range(len(segs_annotations)): #We will find the correct segmentation by taking the one with the maximum IOU\n",
    "        seg_bbox = segs_annotations[num]['bbox'] \n",
    "        iou_list.append(IOU(bbox, seg_bbox))\n",
    "    max_iou = max(iou_list)\n",
    "    iou_index = iou_list.index(max_iou)\n",
    "    segmentation = segs_annotations[iou_index]['segmentation']\n",
    "    with open(os.path.join(output_dir, str(anno['id']) + \".txt\"), \"w\") as text_file:\n",
    "        text_file.write(segmentation['counts'])\n",
    "        text_file.write('\\n')\n",
    "        text_file.write(str(segmentation['size']))\n",
    "    counter += 1\n",
    "    if counter % 1000 == 0:\n",
    "        print(counter)"
   ]
  },
  {
   "cell_type": "code",
   "execution_count": 13,
   "metadata": {},
   "outputs": [],
   "source": [
    "id_list = []\n",
    "for anno in annos:\n",
    "    if anno['id'] in id_list:\n",
    "        print(\"Problem\")\n",
    "        break\n",
    "    else:\n",
    "        id_list.append(anno['id'])"
   ]
  },
  {
   "cell_type": "code",
   "execution_count": null,
   "metadata": {},
   "outputs": [],
   "source": []
  }
 ],
 "metadata": {
  "kernelspec": {
   "display_name": "Python 3",
   "language": "python",
   "name": "python3"
  },
  "language_info": {
   "codemirror_mode": {
    "name": "ipython",
    "version": 3
   },
   "file_extension": ".py",
   "mimetype": "text/x-python",
   "name": "python",
   "nbconvert_exporter": "python",
   "pygments_lexer": "ipython3",
   "version": "3.5.3"
  }
 },
 "nbformat": 4,
 "nbformat_minor": 4
}
